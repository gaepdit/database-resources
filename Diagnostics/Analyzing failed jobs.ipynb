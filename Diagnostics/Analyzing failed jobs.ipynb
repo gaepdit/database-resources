{
    "cells": [
        {
            "attachments": {},
            "cell_type": "markdown",
            "metadata": {
                "azdata_cell_guid": "98117ef6-65d8-4d87-ba88-2e431264ea71"
            },
            "source": [
                "# Analyzing failed SQL Server agent jobs\n",
                "\n",
                "Run this query to retrieve information on failed jobs."
            ]
        },
        {
            "cell_type": "code",
            "execution_count": null,
            "metadata": {
                "azdata_cell_guid": "3b73c2df-1256-45a7-8b27-e8cac60ca72d",
                "tags": [
                    "hide_input"
                ]
            },
            "outputs": [],
            "source": [
                "-- List info on all failed SQL Server agent jobs\n",
                "\n",
                "select j.name                                                                                  as JobName,\n",
                "       h.step_name                                                                             as StepName,\n",
                "       CONVERT(char(10), CAST(STR(h.run_date, 8, 0) AS datetime), 111)                         as RunDate,\n",
                "       STUFF(STUFF(RIGHT('000000' + CAST(h.run_time AS varchar(6)), 6), 5, 0, ':'), 3, 0, ':') as RunTime,\n",
                "       h.run_duration                                                                          as StepDuration,\n",
                "       case h.run_status\n",
                "           when 0 then 'Failed'\n",
                "           when 1 then 'Succeeded'\n",
                "           when 2 then 'Retry'\n",
                "           when 3 then 'Cancelled'\n",
                "           when 4 then 'In Progress'\n",
                "       end                                                                                     as ExecutionStatus,\n",
                "       h.message                                                                               as MessageGenerated\n",
                "from msdb.dbo.sysjobhistory h\n",
                "    inner join msdb.dbo.sysjobs j\n",
                "    on j.job_id = h.job_id\n",
                "where h.run_status = 0\n",
                "order by h.run_date desc, h.run_time desc"
            ]
        },
        {
            "attachments": {},
            "cell_type": "markdown",
            "metadata": {
                "azdata_cell_guid": "4a9faf35-ed76-4313-a447-4e26c889fd29"
            },
            "source": [
                "This query lists all jobs and their schedules."
            ]
        },
        {
            "cell_type": "code",
            "execution_count": null,
            "metadata": {
                "azdata_cell_guid": "4b8d1e95-6ef6-4239-bda5-d4de551af22e",
                "tags": [
                    "hide_input"
                ]
            },
            "outputs": [],
            "source": [
                "-- List SQL Server jobs and schedules\n",
                "\n",
                "select j.name          as [Job name],\n",
                "       t.step_id       as [Step ID],\n",
                "       j.description   as [Description],\n",
                "       t.command       as [Command],\n",
                "       t.database_name as [Database name],\n",
                "       case\n",
                "           when h.freq_type = 1 then 'One time only'\n",
                "           when h.freq_type = 4 then 'Daily'\n",
                "           when h.freq_type = 8 then 'Weekly'\n",
                "           when h.freq_type = 16 then 'Monthly'\n",
                "           else 'Other'\n",
                "       end             as [Frequency type],\n",
                "       h.freq_interval as [Interval],\n",
                "       dateadd(second,\n",
                "               (v.last_run_time / 10000 * 3600) +\n",
                "               (((v.last_run_time % 10000 - v.last_run_time % 100) / 100) * 60) +\n",
                "               (v.last_run_time % 100),\n",
                "               convert(datetime, cast(nullif(v.last_run_date, 0) as nvarchar(10))))\n",
                "                       as [Last run datetime],\n",
                "       dateadd(second,\n",
                "               (s.next_run_time / 10000 * 3600) +\n",
                "               (((s.next_run_time % 10000 - s.next_run_time % 100) / 100) * 60) +\n",
                "               (s.next_run_time % 100),\n",
                "               convert(datetime, cast(nullif(s.next_run_date, 0) as nvarchar(10))))\n",
                "                       as [Next run datetime]\n",
                "from msdb.dbo.sysjobs j\n",
                "    inner join msdb.dbo.sysjobschedules s\n",
                "    on j.job_id = s.job_id\n",
                "    left join msdb.dbo.sysjobsteps t\n",
                "    on j.job_id = t.job_id\n",
                "    left join msdb.dbo.sysschedules h\n",
                "    on s.schedule_id = h.schedule_id\n",
                "    left join msdb.dbo.sysjobservers v\n",
                "    on j.job_id = v.job_id\n",
                "where j.enabled = 1\n",
                "order by 1, 2;"
            ]
        }
    ],
    "metadata": {
        "kernelspec": {
            "display_name": "SQL",
            "language": "sql",
            "name": "SQL"
        },
        "language_info": {
            "name": "sql",
            "version": ""
        }
    },
    "nbformat": 4,
    "nbformat_minor": 2
}

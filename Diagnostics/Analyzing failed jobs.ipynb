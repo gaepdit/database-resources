{
    "metadata": {
        "kernelspec": {
            "name": "SQL",
            "display_name": "SQL",
            "language": "sql"
        },
        "language_info": {
            "name": "sql",
            "version": ""
        }
    },
    "nbformat_minor": 2,
    "nbformat": 4,
    "cells": [
        {
            "cell_type": "markdown",
            "source": [
                "# Analyzing failed SQL Server agent jobs\n",
                "\n",
                "Run this query to retrieve information on failed jobs."
            ],
            "metadata": {
                "azdata_cell_guid": "98117ef6-65d8-4d87-ba88-2e431264ea71"
            },
            "attachments": {}
        },
        {
            "cell_type": "code",
            "source": [
                "-- List info on all failed SQL Server agent jobs\n",
                "\n",
                "select j.name                                                                                  as JobName,\n",
                "       h.step_name                                                                             as StepName,\n",
                "       CONVERT(char(10), CAST(STR(h.run_date, 8, 0) AS datetime), 111)                         as RunDate,\n",
                "       STUFF(STUFF(RIGHT('000000' + CAST(h.run_time AS varchar(6)), 6), 5, 0, ':'), 3, 0, ':') as RunTime,\n",
                "       h.run_duration                                                                          as StepDuration,\n",
                "       case h.run_status\n",
                "           when 0 then 'Failed'\n",
                "           when 1 then 'Succeeded'\n",
                "           when 2 then 'Retry'\n",
                "           when 3 then 'Cancelled'\n",
                "           when 4 then 'In Progress'\n",
                "       end                                                                                     as ExecutionStatus,\n",
                "       h.message                                                                               as MessageGenerated\n",
                "from msdb.dbo.sysjobhistory h\n",
                "    inner join msdb.dbo.sysjobs j\n",
                "    on j.job_id = h.job_id\n",
                "where h.run_status = 0\n",
                "order by h.run_date desc, h.run_time desc"
            ],
            "metadata": {
                "azdata_cell_guid": "3b73c2df-1256-45a7-8b27-e8cac60ca72d",
                "tags": [
                    "hide_input"
                ]
            },
            "outputs": [],
            "execution_count": null
        }
    ]
}
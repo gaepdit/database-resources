{
    "metadata": {
        "kernelspec": {
            "name": "SQL",
            "display_name": "SQL",
            "language": "sql"
        },
        "language_info": {
            "name": "sql",
            "version": ""
        }
    },
    "nbformat_minor": 2,
    "nbformat": 4,
    "cells": [
        {
            "cell_type": "markdown",
            "source": [
                "# Analyzing failed SQL Server agent jobs\n",
                "\n",
                "Run this query to retrieve information on failed jobs."
            ],
            "metadata": {
                "azdata_cell_guid": "98117ef6-65d8-4d87-ba88-2e431264ea71"
            },
            "attachments": {}
        },
        {
            "cell_type": "code",
            "source": [
                "-- List info on all failed SQL Server agent jobs\n",
                "\n",
                "select j.name                                                                                  as JobName,\n",
                "       h.step_name                                                                             as StepName,\n",
                "       CONVERT(char(10), CAST(STR(h.run_date, 8, 0) AS datetime), 111)                         as RunDate,\n",
                "       STUFF(STUFF(RIGHT('000000' + CAST(h.run_time AS varchar(6)), 6), 5, 0, ':'), 3, 0, ':') as RunTime,\n",
                "       h.run_duration                                                                          as StepDuration,\n",
                "       case h.run_status\n",
                "           when 0 then 'Failed'\n",
                "           when 1 then 'Succeeded'\n",
                "           when 2 then 'Retry'\n",
                "           when 3 then 'Cancelled'\n",
                "           when 4 then 'In Progress'\n",
                "       end                                                                                     as ExecutionStatus,\n",
                "       h.message                                                                               as MessageGenerated\n",
                "from msdb.dbo.sysjobhistory h\n",
                "    inner join msdb.dbo.sysjobs j\n",
                "    on j.job_id = h.job_id\n",
                "where h.run_status = 0\n",
                "order by h.run_date desc, h.run_time desc"
            ],
            "metadata": {
                "azdata_cell_guid": "3b73c2df-1256-45a7-8b27-e8cac60ca72d",
                "tags": [
                    "hide_input"
                ]
            },
            "outputs": [],
            "execution_count": null
        },
        {
            "cell_type": "markdown",
            "source": [
                "This query lists all jobs and their schedules."
            ],
            "metadata": {
                "azdata_cell_guid": "4a9faf35-ed76-4313-a447-4e26c889fd29"
            },
            "attachments": {}
        },
        {
            "cell_type": "code",
            "source": [
                "-- List SQL Server jobs and schedules\r\n",
                "\r\n",
                "select j.name                                                               as [Job name],\r\n",
                "       t.step_id                                                            as [Step ID],\r\n",
                "       j.description                                                        as [Description],\r\n",
                "       t.command                                                            as [Command],\r\n",
                "       t.database_name                                                      as [Database name],\r\n",
                "       case\r\n",
                "           when h.freq_type = 1 then 'One time only'\r\n",
                "           when h.freq_type = 4 then 'Daily'\r\n",
                "           when h.freq_type = 8 then 'Weekly'\r\n",
                "           when h.freq_type = 16 then 'Monthly'\r\n",
                "           else 'Other'\r\n",
                "       end                                                                  as [Frequency type],\r\n",
                "       h.freq_interval                                                      as [Interval],\r\n",
                "       CONVERT(char(10), CAST(STR(s.next_run_date, 8, 0) AS datetime), 111) as [Next run date]\r\n",
                "from msdb.dbo.sysjobs j\r\n",
                "    inner join msdb.dbo.sysjobschedules s\r\n",
                "    on j.job_id = s.job_id\r\n",
                "    left join msdb.dbo.sysjobsteps t\r\n",
                "    on j.job_id = t.job_id\r\n",
                "    left join msdb.dbo.sysschedules h\r\n",
                "    on s.schedule_id = h.schedule_id\r\n",
                "where j.enabled = 1\r\n",
                "order by 1, 2;"
            ],
            "metadata": {
                "azdata_cell_guid": "4b8d1e95-6ef6-4239-bda5-d4de551af22e",
                "tags": [
                    "hide_input"
                ]
            },
            "outputs": [],
            "execution_count": null
        }
    ]
}
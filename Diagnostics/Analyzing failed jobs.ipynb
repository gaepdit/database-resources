{
    "metadata": {
        "kernelspec": {
            "name": "SQL",
            "display_name": "SQL",
            "language": "sql"
        },
        "language_info": {
            "name": "sql",
            "version": ""
        }
    },
    "nbformat_minor": 2,
    "nbformat": 4,
    "cells": [
        {
            "cell_type": "markdown",
            "source": [
                "# Analyzing failed SQL Server agent jobs\n",
                "\n",
                "Run this query to retrieve information on failed jobs."
            ],
            "metadata": {
                "azdata_cell_guid": "98117ef6-65d8-4d87-ba88-2e431264ea71"
            },
            "attachments": {}
        },
        {
            "cell_type": "code",
            "source": [
                "-- List info on all failed SQL Server agent jobs\n",
                "\n",
                "select j.name                                                                                  as JobName,\n",
                "       h.step_name                                                                             as StepName,\n",
                "       CONCAT_WS(' ', CONVERT(char(10), CAST(STR(h.run_date, 8, 0) AS datetime), 111),\n",
                "                 STUFF(STUFF(RIGHT('000000' +\n",
                "                                   CAST(h.run_time AS varchar(6)), 6), 5, 0, ':'), 3, 0, ':')) as RunDateTime,\n",
                "       h.run_duration                                                                          as StepDuration,\n",
                "       case h.run_status\n",
                "           when 0 then 'Failed'\n",
                "           when 1 then 'Succeeded'\n",
                "           when 2 then 'Retry'\n",
                "           when 3 then 'Cancelled'\n",
                "           when 4 then 'In Progress'\n",
                "       end                                                                                     as ExecutionStatus,\n",
                "       h.message                                                                               as MessageGenerated\n",
                "from msdb.dbo.sysjobhistory h\n",
                "    inner join msdb.dbo.sysjobs j\n",
                "    on j.job_id = h.job_id\n",
                "where h.run_status = 0\n",
                "order by h.run_date desc, h.run_time desc;"
            ],
            "metadata": {
                "azdata_cell_guid": "3b73c2df-1256-45a7-8b27-e8cac60ca72d",
                "language": "sql",
                "tags": [
                    "hide_input"
                ]
            },
            "outputs": [
                {
                    "output_type": "display_data",
                    "data": {
                        "text/html": "(0 rows affected)"
                    },
                    "metadata": {}
                },
                {
                    "output_type": "display_data",
                    "data": {
                        "text/html": "Total execution time: 00:00:00.080"
                    },
                    "metadata": {}
                },
                {
                    "output_type": "execute_result",
                    "metadata": {},
                    "execution_count": 1,
                    "data": {
                        "application/vnd.dataresource+json": {
                            "schema": {
                                "fields": [
                                    {
                                        "name": "JobName"
                                    },
                                    {
                                        "name": "StepName"
                                    },
                                    {
                                        "name": "RunDateTime"
                                    },
                                    {
                                        "name": "StepDuration"
                                    },
                                    {
                                        "name": "ExecutionStatus"
                                    },
                                    {
                                        "name": "MessageGenerated"
                                    }
                                ]
                            },
                            "data": []
                        },
                        "text/html": [
                            "<table>",
                            "<tr><th>JobName</th><th>StepName</th><th>RunDateTime</th><th>StepDuration</th><th>ExecutionStatus</th><th>MessageGenerated</th></tr>",
                            "</table>"
                        ]
                    }
                }
            ],
            "execution_count": 1
        },
        {
            "cell_type": "markdown",
            "source": [
                "This query lists all jobs and their schedules."
            ],
            "metadata": {
                "azdata_cell_guid": "4a9faf35-ed76-4313-a447-4e26c889fd29"
            },
            "attachments": {}
        },
        {
            "cell_type": "code",
            "source": [
                "-- List SQL Server jobs and schedules\n",
                "\n",
                "select j.name          as [Job name],\n",
                "       t.step_id       as [Step ID],\n",
                "       j.description   as [Description],\n",
                "       t.command       as [Command],\n",
                "       t.database_name as [Database name],\n",
                "       case\n",
                "           when h.freq_type = 1 then 'One time only'\n",
                "           when h.freq_type = 4 then 'Daily'\n",
                "           when h.freq_type = 8 then 'Weekly'\n",
                "           when h.freq_type = 16 then 'Monthly'\n",
                "           else 'Other'\n",
                "       end             as [Frequency type],\n",
                "       h.freq_interval as [Interval],\n",
                "       dateadd(second,\n",
                "               (v.last_run_time / 10000 * 3600) +\n",
                "               (((v.last_run_time % 10000 - v.last_run_time % 100) / 100) * 60) +\n",
                "               (v.last_run_time % 100),\n",
                "               convert(datetime, cast(nullif(v.last_run_date, 0) as nvarchar(10))))\n",
                "                       as [Last run datetime],\n",
                "       dateadd(second,\n",
                "               (s.next_run_time / 10000 * 3600) +\n",
                "               (((s.next_run_time % 10000 - s.next_run_time % 100) / 100) * 60) +\n",
                "               (s.next_run_time % 100),\n",
                "               convert(datetime, cast(nullif(s.next_run_date, 0) as nvarchar(10))))\n",
                "                       as [Next run datetime]\n",
                "from msdb.dbo.sysjobs j\n",
                "    inner join msdb.dbo.sysjobschedules s\n",
                "    on j.job_id = s.job_id\n",
                "    left join msdb.dbo.sysjobsteps t\n",
                "    on j.job_id = t.job_id\n",
                "    left join msdb.dbo.sysschedules h\n",
                "    on s.schedule_id = h.schedule_id\n",
                "    left join msdb.dbo.sysjobservers v\n",
                "    on j.job_id = v.job_id\n",
                "where j.enabled = 1\n",
                "order by 1, 2;"
            ],
            "metadata": {
                "azdata_cell_guid": "4b8d1e95-6ef6-4239-bda5-d4de551af22e",
                "language": "sql",
                "tags": [
                    "hide_input"
                ]
            },
            "outputs": [
                {
                    "output_type": "display_data",
                    "data": {
                        "text/html": "(34 rows affected)"
                    },
                    "metadata": {}
                },
                {
                    "output_type": "display_data",
                    "data": {
                        "text/html": "Total execution time: 00:00:00.107"
                    },
                    "metadata": {}
                },
                {
                    "output_type": "execute_result",
                    "metadata": {},
                    "execution_count": 2,
                    "data": {
                        "application/vnd.dataresource+json": {
                            "schema": {
                                "fields": [
                                    {
                                        "name": "Job name"
                                    },
                                    {
                                        "name": "Step ID"
                                    },
                                    {
                                        "name": "Description"
                                    },
                                    {
                                        "name": "Command"
                                    },
                                    {
                                        "name": "Database name"
                                    },
                                    {
                                        "name": "Frequency type"
                                    },
                                    {
                                        "name": "Interval"
                                    },
                                    {
                                        "name": "Last run datetime"
                                    },
                                    {
                                        "name": "Next run datetime"
                                    }
                                ]
                            },
                            "data": [
                                {
                                    "Job name": "Adopt_A_Stream_Draft_Event_Deletions",
                                    "Step ID": "1",
                                    "Description": "on 3/7/2022 this job is delpoyed from Dev .83 Server by Azmath Fatima after the request from Sampath Karre.",
                                    "Command": "/********* SCRIPT FOR Deleting the EVENT IDS IN THE ADOPT-A-STREAM *****************************/\r\n\r\nUSE [AdoptAStream]\r\nGO\r\n\r\n/*****************************************************************************\r\n\r\nAuthor:      Vidyanand Dhande\r\nOverview:    Cursor to delete certain events from the tables\r\n \r\nModification History:\r\nWhen        Who                 What\r\n----------  ------------------- ----------------------------------------\r\n7-14-2021\tVidhu               Script for Adopt-A-Stream Event ID deletions\r\n\r\n*******************************************************************************/\r\n\r\n\r\nBEGIN\r\nDECLARE\r\n@Event_rid int;\r\n\r\nDECLARE EventID_cursor CURSOR FOR\r\n\r\nSELECT event_rid\r\nFROM [AdoptAStream].dbo.app_event\r\nWHERE Draft_Ind = 1\r\n\tAND Cast(createddate AS DATE) <= CAST(GETDATE() - 7 AS DATE)\r\n\r\nOPEN EventID_cursor;\r\n\r\nBEGIN TRANSACTION\r\nBEGIN TRY\r\n\r\n\r\nFETCH NEXT FROM EventID_cursor into @Event_rid;\r\nWHILE @@FETCH_STATUS = 0\r\nBEGIN\r\n\r\nDELETE\r\nFROM [dbo].[evt_bacterial_detail]\r\nWHERE event_rid = @Event_rid\r\n\r\nDELETE\r\nFROM [dbo].[evt_stream_habitat_detail]\r\nWHERE event_rid = @Event_rid\r\n\r\nDELETE\r\nFROM [dbo].[evt_miv]\r\nWHERE [miv_detail_rid] IN (\r\n\t\tSELECT [miv_detail_rid]\r\n\t\tFROM [dbo].[evt_miv_detail]\r\n\t\tWHERE event_rid = @Event_rid\r\n\t\t)\r\n\r\nDELETE\r\nFROM [dbo].[evt_miv_detail]\r\nWHERE event_rid = @Event_rid\r\n\r\nDELETE\r\nFROM [dbo].[evt_chemical]\r\nWHERE [chem_detail_rid] IN (\r\n\t\tSELECT [chem_detail_rid]\r\n\t\tFROM [dbo].[evt_chemical_detail]\r\n\t\tWHERE event_rid = @Event_rid\r\n\t\t)\r\n\r\nDELETE\r\nFROM [dbo].[evt_chemical_detail]\r\nWHERE event_rid = @Event_rid\r\n\r\nDELETE\r\nFROM aas_app_file\r\nWHERE file_rid IN (\r\n\t\tSELECT file_rid\r\n\t\tFROM aas_evt_file\r\n\t\tWHERE aas_event_rid = @Event_rid\r\n\t\t)\r\n\r\nDELETE\r\nFROM aas_evt_file\r\nWHERE aas_event_rid = @Event_rid\r\n\r\nDELETE\r\nFROM [dbo].[evt_audit]\r\nWHERE event_rid = @Event_rid\r\n\r\nDELETE\r\nFROM [dbo].[con_event]\r\nWHERE event_rid = @Event_rid\r\n\r\nDELETE\r\nFROM [dbo].[app_event]\r\nWHERE event_rid = @Event_rid\r\n    \r\n\t\r\n\tFETCH next from EventID_cursor into @Event_rid;\r\n\r\n\tEND;\r\n\tCOMMIT TRANSACTION;\r\n\tEND TRY\r\n\r\n\tBEGIN CATCH \r\n\r\n\tIF @@trancount>0\r\n\tRollback transaction;\r\n\r\n\tDECLARE @ErrorNumber INT = ERROR_NUMBER();\r\n    DECLARE @ErrorLine INT = ERROR_LINE();\r\n    DECLARE @ErrorMessage NVARCHAR(4000) = ERROR_MESSAGE();\r\n    DECLARE @ErrorSeverity INT = ERROR_SEVERITY();\r\n    DECLARE @ErrorState INT = ERROR_STATE();\r\n\r\n    PRINT 'Actual error number: ' + CAST(@ErrorNumber AS VARCHAR(10));\r\n    PRINT 'Actual line number: ' + CAST(@ErrorLine AS VARCHAR(10));\r\n\r\n    RAISERROR(@ErrorMessage, @ErrorSeverity, @ErrorState);\r\n  END CATCH;\r\n\r\nCLOSE EventID_cursor;\r\nDEALLOCATE EventID_cursor;\r\nEND\r\n\r\n",
                                    "Database name": "master",
                                    "Frequency type": "Daily",
                                    "Interval": "1",
                                    "Last run datetime": "2024-03-15 04:00:00.000",
                                    "Next run datetime": "2024-03-16 04:00:00.000"
                                },
                                {
                                    "Job name": "AIRBRANCH_DeactivateInactiveIaipUsers",
                                    "Step ID": "1",
                                    "Description": "No description available.",
                                    "Command": "USE [AIRBRANCH]\r\nGO\r\n\r\nDECLARE @RC int\r\n\r\n-- TODO: Set parameter values here.\r\n\r\nEXECUTE @RC = [dbo].[DeactivateInactiveIaipUsers] \r\nGO\r\n\r\n\r\n",
                                    "Database name": "master",
                                    "Frequency type": "Monthly",
                                    "Interval": "1",
                                    "Last run datetime": "2024-03-01 01:00:00.000",
                                    "Next run datetime": "2024-04-01 01:00:00.000"
                                },
                                {
                                    "Job name": "AIRBRANCH_ICIS_STAGE_ALL",
                                    "Step ID": "1",
                                    "Description": "No description available.",
                                    "Command": "USE [AIRBRANCH]\r\nGO\r\n\r\nDECLARE @RC int\r\n\r\n-- TODO: Set parameter values here.\r\n\r\nEXECUTE @RC = [etl].[ICIS_Stage_All] \r\nGO\r\n\r\n\r\n",
                                    "Database name": "master",
                                    "Frequency type": "Daily",
                                    "Interval": "1",
                                    "Last run datetime": "2024-03-14 21:00:00.000",
                                    "Next run datetime": "2024-03-15 21:00:00.000"
                                },
                                {
                                    "Job name": "AIRBRANCH_PD_EIS_DATA_ANNUAL",
                                    "Step ID": "1",
                                    "Description": "No description available.",
                                    "Command": "USE [AIRBRANCH]\r\nGO\r\n\r\nDECLARE @RC int\r\n\r\n-- TODO: Set parameter values here.\r\n\r\nEXECUTE @RC = [dbo].[PD_EIS_DATA_ANNUAL] \r\nGO\r\n\r\n\r\n",
                                    "Database name": "master",
                                    "Frequency type": "Monthly",
                                    "Interval": "1",
                                    "Last run datetime": "2024-01-01 04:00:00.000",
                                    "Next run datetime": "2025-01-01 04:00:00.000"
                                },
                                {
                                    "Job name": "AIRBRANCH_PD_FEE_ADMIN",
                                    "Step ID": "1",
                                    "Description": "This job schedule to run PD_FEE_ADMIN from AIRBRANCH",
                                    "Command": "USE [AIRBRANCH]\r\nGO\r\n\r\nDECLARE @RC int\r\n\r\n-- TODO: Set parameter values here.\r\n\r\nEXECUTE @RC = [dbo].[PD_FEE_ADMIN] \r\nGO\r\n\r\n\r\n",
                                    "Database name": "master",
                                    "Frequency type": "Monthly",
                                    "Interval": "1",
                                    "Last run datetime": "2024-01-01 04:00:00.000",
                                    "Next run datetime": "2025-01-01 04:00:00.000"
                                },
                                {
                                    "Job name": "AIRBRANCH_USP_IAIP_TO_STG",
                                    "Step ID": "1",
                                    "Description": "No description available.",
                                    "Command": "USE [AIRBRANCH]\r\nGO\r\n\r\nDECLARE @RC int\r\n\r\n-- TODO: Set parameter values here.\r\n\r\nEXECUTE @RC = [etl].[USP_IAIP_TO_STG] \r\nGO\r\n\r\n\r\n",
                                    "Database name": "master",
                                    "Frequency type": "Daily",
                                    "Interval": "1",
                                    "Last run datetime": "2024-03-15 00:00:00.000",
                                    "Next run datetime": "2024-03-16 00:00:00.000"
                                },
                                {
                                    "Job name": "Clean up txt files.Subplan_1",
                                    "Step ID": "1",
                                    "Description": "No description available.",
                                    "Command": "/Server \"$(ESCAPE_NONE(SRVR))\" /SQL \"Maintenance Plans\\Clean up txt files\" /set \"\\Package\\Subplan_1.Disable;false\"",
                                    "Database name": "NULL",
                                    "Frequency type": "Daily",
                                    "Interval": "1",
                                    "Last run datetime": "2024-03-15 03:50:00.000",
                                    "Next run datetime": "2024-03-16 03:50:00.000"
                                },
                                {
                                    "Job name": "Cleaning cache",
                                    "Step ID": "1",
                                    "Description": "No description available.",
                                    "Command": "use master\r\ngo\r\ndbcc FREEPROCCACHE",
                                    "Database name": "master",
                                    "Frequency type": "Daily",
                                    "Interval": "1",
                                    "Last run datetime": "2024-03-14 18:00:00.000",
                                    "Next run datetime": "2024-03-15 18:00:00.000"
                                },
                                {
                                    "Job name": "CleanUp Backup Files.Subplan_1",
                                    "Step ID": "1",
                                    "Description": "No description available.",
                                    "Command": "/Server \"$(ESCAPE_NONE(SRVR))\" /SQL \"Maintenance Plans\\CleanUp Backup Files\" /set \"\\Package\\Subplan_1.Disable;false\"",
                                    "Database name": "NULL",
                                    "Frequency type": "Daily",
                                    "Interval": "1",
                                    "Last run datetime": "2024-03-15 03:45:00.000",
                                    "Next run datetime": "2024-03-16 03:45:00.000"
                                },
                                {
                                    "Job name": "Daily backup plan.Subplan_1",
                                    "Step ID": "1",
                                    "Description": "No description available.",
                                    "Command": "/Server \"$(ESCAPE_NONE(SRVR))\" /SQL \"Maintenance Plans\\Daily backup plan\" /set \"\\Package\\Subplan_1.Disable;false\"",
                                    "Database name": "NULL",
                                    "Frequency type": "Daily",
                                    "Interval": "1",
                                    "Last run datetime": "2024-03-15 03:30:00.000",
                                    "Next run datetime": "2024-03-16 03:30:00.000"
                                },
                                {
                                    "Job name": "DEL_DUPLICATES_SDWIS_DATA",
                                    "Step ID": "1",
                                    "Description": "No description available.",
                                    "Command": "\r\n\r\nDELETE T\r\nFROM\r\n(\r\n    SELECT WATERSYSTEMID\r\n         , ROW_NUMBER() OVER(PARTITION BY WATERSYSTEMID\r\n                                        , NAME ORDER BY WATERSYSTEMID) AS rn\r\n    FROM   sdw.WS_INV_CONTACT\r\n) AS T\r\nWHERE  rn > 1\r\n\r\n",
                                    "Database name": "MFL_GA_STG",
                                    "Frequency type": "Daily",
                                    "Interval": "1",
                                    "Last run datetime": "2024-03-14 23:30:00.000",
                                    "Next run datetime": "2024-03-15 23:30:00.000"
                                },
                                {
                                    "Job name": "ExpiringLicenses_Email",
                                    "Step ID": "1",
                                    "Description": "No description available.",
                                    "Command": "exec Get_ExpiringLicenses_SendEmail",
                                    "Database name": "RAD",
                                    "Frequency type": "Daily",
                                    "Interval": "1",
                                    "Last run datetime": "2024-03-15 05:00:00.000",
                                    "Next run datetime": "2024-03-16 05:00:00.000"
                                },
                                {
                                    "Job name": "NotifyExpiredLicenses",
                                    "Step ID": "1",
                                    "Description": "Notify Expired Licenses to the Licensee once every week on Sunday at 5.AM",
                                    "Command": "EXEC NotifyExpiredLicenses @Environment='PROD'",
                                    "Database name": "RAD",
                                    "Frequency type": "Weekly",
                                    "Interval": "1",
                                    "Last run datetime": "2024-03-10 05:00:00.000",
                                    "Next run datetime": "2024-03-17 05:00:00.000"
                                },
                                {
                                    "Job name": "ReIndexing & update Statistics AdoptAstream",
                                    "Step ID": "1",
                                    "Description": "No description available.",
                                    "Command": "USE AdoptAstream\r\nGO\r\nEXEC sp_MSforeachtable @command1=\"print '?' DBCC DBREINDEX ('?', ' ', 80)\"\r\nGO\r\nEXEC sp_updatestats\r\nGO",
                                    "Database name": "master",
                                    "Frequency type": "Daily",
                                    "Interval": "1",
                                    "Last run datetime": "2024-03-14 19:00:00.000",
                                    "Next run datetime": "2024-03-15 19:00:00.000"
                                },
                                {
                                    "Job name": "ReIndexing & Update Statistics on ComplaintTracking Tables",
                                    "Step ID": "1",
                                    "Description": "When any data modification operations (INSERT, UPDATE, or DELETE statements) table fragmentation can occur. DBCC DBREINDEX statement can be used to rebuild all the indexes on all the tables in database. DBCC DBREINDEX is efficient over dropping and recreating indexes.",
                                    "Command": "USE ComplaintTracking\r\nGO\r\nEXEC sp_MSforeachtable @command1=\"print '?' DBCC DBREINDEX ('?', ' ', 80)\"\r\nGO\r\nEXEC sp_updatestats\r\nGO",
                                    "Database name": "master",
                                    "Frequency type": "Daily",
                                    "Interval": "1",
                                    "Last run datetime": "2024-03-14 19:00:00.000",
                                    "Next run datetime": "2024-03-15 19:00:00.000"
                                },
                                {
                                    "Job name": "ReIndexing & Update Statistics on GOMAS Tables",
                                    "Step ID": "1",
                                    "Description": "When any data modification operations (INSERT, UPDATE, or DELETE statements) table fragmentation can occur. DBCC DBREINDEX statement can be used to rebuild all the indexes on all the tables in database. DBCC DBREINDEX is efficient over dropping and recreating indexes.",
                                    "Command": "USE GOMAS\r\nGO\r\nEXEC sp_MSforeachtable @command1=\"print '?' DBCC DBREINDEX ('?', ' ', 80)\"\r\nGO\r\nEXEC sp_updatestats\r\nGO",
                                    "Database name": "master",
                                    "Frequency type": "Daily",
                                    "Interval": "1",
                                    "Last run datetime": "2024-03-14 19:00:00.000",
                                    "Next run datetime": "2024-03-15 19:00:00.000"
                                },
                                {
                                    "Job name": "syspolicy_purge_history",
                                    "Step ID": "1",
                                    "Description": "No description available.",
                                    "Command": "IF (msdb.dbo.fn_syspolicy_is_automation_enabled() != 1)\r\n        BEGIN\r\n            RAISERROR(34022, 16, 1)\r\n        END",
                                    "Database name": "master",
                                    "Frequency type": "Daily",
                                    "Interval": "1",
                                    "Last run datetime": "2024-03-15 02:00:00.000",
                                    "Next run datetime": "2024-03-16 02:00:00.000"
                                },
                                {
                                    "Job name": "syspolicy_purge_history",
                                    "Step ID": "2",
                                    "Description": "No description available.",
                                    "Command": "EXEC msdb.dbo.sp_syspolicy_purge_history",
                                    "Database name": "master",
                                    "Frequency type": "Daily",
                                    "Interval": "1",
                                    "Last run datetime": "2024-03-15 02:00:00.000",
                                    "Next run datetime": "2024-03-16 02:00:00.000"
                                },
                                {
                                    "Job name": "syspolicy_purge_history",
                                    "Step ID": "3",
                                    "Description": "No description available.",
                                    "Command": "if ('$(ESCAPE_SQUOTE(INST))' -eq 'MSSQLSERVER') {$a = '\\DEFAULT'} ELSE {$a = ''};\r\n(Get-Item SQLSERVER:\\SQLPolicy\\$(ESCAPE_NONE(SRVR))$a).EraseSystemHealthPhantomRecords()",
                                    "Database name": "master",
                                    "Frequency type": "Daily",
                                    "Interval": "1",
                                    "Last run datetime": "2024-03-15 02:00:00.000",
                                    "Next run datetime": "2024-03-16 02:00:00.000"
                                },
                                {
                                    "Job name": "Truncate AdoptAStream",
                                    "Step ID": "1",
                                    "Description": "No description available.",
                                    "Command": "ALTER DATABASE [AdoptAStream] SET RECOVERY SIMPLE\r\n\r\nUSE [AdoptAStream] ;\r\nGO\r\nCHECKPOINT;\r\nGO\r\nCHECKPOINT; -- run twice to ensure file wrap-around\r\nGO\r\nDBCC SHRINKFILE(AdoptAStream_log, 2);\r\nGO\r\n\r\nALTER DATABASE [AdoptAStream] SET RECOVERY FULL",
                                    "Database name": "master",
                                    "Frequency type": "Daily",
                                    "Interval": "1",
                                    "Last run datetime": "2024-03-15 06:00:00.000",
                                    "Next run datetime": "2024-03-16 06:00:00.000"
                                },
                                {
                                    "Job name": "Truncate ATTAINS",
                                    "Step ID": "1",
                                    "Description": "This job to truncate log file every night.",
                                    "Command": "ALTER DATABASE [ATTAINS] SET RECOVERY SIMPLE\r\n\r\nUSE [ATTAINS] ;\r\nGO\r\nCHECKPOINT;\r\nGO\r\nCHECKPOINT; -- run twice to ensure file wrap-around\r\nGO\r\nDBCC SHRINKFILE(ATTAINS_log, 2);\r\nGO\r\n\r\nALTER DATABASE [ATTAINS] SET RECOVERY FULL",
                                    "Database name": "master",
                                    "Frequency type": "Daily",
                                    "Interval": "1",
                                    "Last run datetime": "2024-03-15 06:00:00.000",
                                    "Next run datetime": "2024-03-16 06:00:00.000"
                                },
                                {
                                    "Job name": "Truncate ComplaintTracking",
                                    "Step ID": "1",
                                    "Description": "No description available.",
                                    "Command": "ALTER DATABASE [ComplaintTracking] SET RECOVERY SIMPLE\r\n\r\nUSE [ComplaintTracking] ;\r\nGO\r\nCHECKPOINT;\r\nGO\r\nCHECKPOINT; -- run twice to ensure file wrap-around\r\nGO\r\nDBCC SHRINKFILE(ComplaintTracking_log, 2);\r\nGO\r\n\r\nALTER DATABASE [ComplaintTracking] SET RECOVERY FULL",
                                    "Database name": "master",
                                    "Frequency type": "Daily",
                                    "Interval": "1",
                                    "Last run datetime": "2024-03-15 06:00:00.000",
                                    "Next run datetime": "2024-03-16 06:00:00.000"
                                },
                                {
                                    "Job name": "Truncate EnforcementOrders",
                                    "Step ID": "1",
                                    "Description": "No description available.",
                                    "Command": "ALTER DATABASE [EnforcementOrders] SET RECOVERY SIMPLE\r\n\r\nUSE [EnforcementOrders] ;\r\nGO\r\nCHECKPOINT;\r\nGO\r\nCHECKPOINT; -- run twice to ensure file wrap-around\r\nGO\r\nDBCC SHRINKFILE(EnforcementOrders_log, 2);\r\nGO\r\n\r\nALTER DATABASE [EnforcementOrders] SET RECOVERY FULL",
                                    "Database name": "master",
                                    "Frequency type": "Daily",
                                    "Interval": "1",
                                    "Last run datetime": "2024-03-15 06:00:00.000",
                                    "Next run datetime": "2024-03-16 06:00:00.000"
                                },
                                {
                                    "Job name": "Truncate GOMAS",
                                    "Step ID": "1",
                                    "Description": "No description available.",
                                    "Command": "ALTER DATABASE [GOMAS] SET RECOVERY SIMPLE\r\n\r\nUSE [GOMAS] ;\r\nGO\r\nCHECKPOINT;\r\nGO\r\nCHECKPOINT; -- run twice to ensure file wrap-around\r\nGO\r\nDBCC SHRINKFILE(GOMASUAT_log, 2);\r\nGO\r\n\r\nALTER DATABASE [GOMAS] SET RECOVERY FULL",
                                    "Database name": "master",
                                    "Frequency type": "Daily",
                                    "Interval": "1",
                                    "Last run datetime": "2024-03-15 06:00:00.000",
                                    "Next run datetime": "2024-03-16 06:00:00.000"
                                },
                                {
                                    "Job name": "Truncate Log file airbranch",
                                    "Step ID": "1",
                                    "Description": "No description available.",
                                    "Command": "ALTER DATABASE airbranch SET RECOVERY SIMPLE",
                                    "Database name": "master",
                                    "Frequency type": "Daily",
                                    "Interval": "1",
                                    "Last run datetime": "2024-03-15 06:00:00.000",
                                    "Next run datetime": "2024-03-16 06:00:00.000"
                                },
                                {
                                    "Job name": "Truncate Log file airbranch",
                                    "Step ID": "2",
                                    "Description": "No description available.",
                                    "Command": "USE airbranch;\r\nGO\r\nCHECKPOINT;\r\nGO\r\nCHECKPOINT; \r\nGO\r\nDBCC SHRINKFILE(airbranch_copy_og, 2);\r\nGO\r\n\r\n",
                                    "Database name": "master",
                                    "Frequency type": "Daily",
                                    "Interval": "1",
                                    "Last run datetime": "2024-03-15 06:00:00.000",
                                    "Next run datetime": "2024-03-16 06:00:00.000"
                                },
                                {
                                    "Job name": "Truncate Log file airbranch",
                                    "Step ID": "3",
                                    "Description": "No description available.",
                                    "Command": "ALTER DATABASE [airbranch] SET RECOVERY FULL",
                                    "Database name": "master",
                                    "Frequency type": "Daily",
                                    "Interval": "1",
                                    "Last run datetime": "2024-03-15 06:00:00.000",
                                    "Next run datetime": "2024-03-16 06:00:00.000"
                                },
                                {
                                    "Job name": "Truncate MFL_GA_STG",
                                    "Step ID": "1",
                                    "Description": "No description available.",
                                    "Command": "ALTER DATABASE [MFL_GA_STG] SET RECOVERY SIMPLE\r\n\r\nUSE [MFL_GA_STG] ;\r\nGO\r\nCHECKPOINT;\r\nGO\r\nCHECKPOINT; -- run twice to ensure file wrap-around\r\nGO\r\nDBCC SHRINKFILE(MFL_GA_STG_log, 2);\r\nGO\r\n\r\nALTER DATABASE [MFL_GA_STG] SET RECOVERY FULL",
                                    "Database name": "master",
                                    "Frequency type": "Daily",
                                    "Interval": "1",
                                    "Last run datetime": "2024-03-15 06:00:00.000",
                                    "Next run datetime": "2024-03-16 06:00:00.000"
                                },
                                {
                                    "Job name": "Truncate networknodeflow",
                                    "Step ID": "1",
                                    "Description": "No description available.",
                                    "Command": "ALTER DATABASE [NETWORKNODEFLOW] SET RECOVERY SIMPLE\r\n\r\nUSE [NETWORKNODEFLOW] ;\r\nGO\r\nCHECKPOINT;\r\nGO\r\nCHECKPOINT; -- run twice to ensure file wrap-around\r\nGO\r\nDBCC SHRINKFILE(NETWORKNODEFLOW_log, 2);\r\nGO\r\n\r\nALTER DATABASE [NETWORKNODEFLOW] SET RECOVERY FULL",
                                    "Database name": "master",
                                    "Frequency type": "Daily",
                                    "Interval": "1",
                                    "Last run datetime": "2024-03-15 06:00:00.000",
                                    "Next run datetime": "2024-03-16 06:00:00.000"
                                },
                                {
                                    "Job name": "Truncate NODE",
                                    "Step ID": "1",
                                    "Description": "No description available.",
                                    "Command": "ALTER DATABASE [NODE] SET RECOVERY SIMPLE\r\n\r\nUSE [NODE] ;\r\nGO\r\nCHECKPOINT;\r\nGO\r\nCHECKPOINT; -- run twice to ensure file wrap-around\r\nGO\r\nDBCC SHRINKFILE(NODE_log, 2);\r\nGO\r\n\r\nALTER DATABASE [NODE] SET RECOVERY FULL",
                                    "Database name": "master",
                                    "Frequency type": "Daily",
                                    "Interval": "1",
                                    "Last run datetime": "2024-03-15 06:00:00.000",
                                    "Next run datetime": "2024-03-16 06:00:00.000"
                                },
                                {
                                    "Job name": "Truncate Node_Flow_Facid",
                                    "Step ID": "1",
                                    "Description": "No description available.",
                                    "Command": "\r\nALTER DATABASE [NODE_FLOW_FACID] SET RECOVERY SIMPLE\r\n\r\nUSE [NODE_FLOW_FACID] ;\r\nGO\r\nCHECKPOINT;\r\nGO\r\nCHECKPOINT; -- run twice to ensure file wrap-around\r\nGO\r\nDBCC SHRINKFILE(NODE_FLOW_FACID_log, 2);\r\nGO\r\n\r\nALTER DATABASE [NODE_FLOW_FACID] SET RECOVERY FULL",
                                    "Database name": "master",
                                    "Frequency type": "Daily",
                                    "Interval": "1",
                                    "Last run datetime": "2024-03-15 06:00:00.000",
                                    "Next run datetime": "2024-03-16 06:00:00.000"
                                },
                                {
                                    "Job name": "Truncate RAD",
                                    "Step ID": "1",
                                    "Description": "No description available.",
                                    "Command": "ALTER DATABASE [RAD] SET RECOVERY SIMPLE\r\n\r\nUSE [RAD] ;\r\nGO\r\nCHECKPOINT;\r\nGO\r\nCHECKPOINT; -- run twice to ensure file wrap-around\r\nGO\r\nDBCC SHRINKFILE(RAD_log, 2);\r\nGO\r\n\r\nALTER DATABASE [RAD] SET RECOVERY FULL",
                                    "Database name": "master",
                                    "Frequency type": "Daily",
                                    "Interval": "1",
                                    "Last run datetime": "2024-03-15 06:00:00.000",
                                    "Next run datetime": "2024-03-16 06:00:00.000"
                                },
                                {
                                    "Job name": "Truncate Temdb_Data_and_LOG_files",
                                    "Step ID": "1",
                                    "Description": "No description available.",
                                    "Command": "use master\r\ngo\r\ndbcc FREEPROCCACHE\r\n\r\nUSE tempdb;\r\nGO\r\nCHECKPOINT;\r\nGO\r\nCHECKPOINT; -- run twice to ensure file wrap-around\r\nGO\r\nDBCC SHRINKFILE(templog, 2);\r\nGO\r\n\r\nUSE tempdb;\r\nGO\r\nCHECKPOINT;\r\nGO\r\nCHECKPOINT; -- run twice to ensure file wrap-around\r\nGO\r\nDBCC SHRINKFILE(tempdev, 2);\r\nGO",
                                    "Database name": "master",
                                    "Frequency type": "Daily",
                                    "Interval": "1",
                                    "Last run datetime": "2024-03-14 18:00:00.000",
                                    "Next run datetime": "2024-03-15 18:00:00.000"
                                },
                                {
                                    "Job name": "UpcomingInspection_Email",
                                    "Step ID": "1",
                                    "Description": "Once this job runs it will send emails to the users who had missed the inspection",
                                    "Command": "exec Get_Upcoming_Inpection_SendEmails",
                                    "Database name": "RAD",
                                    "Frequency type": "Weekly",
                                    "Interval": "62",
                                    "Last run datetime": "2024-03-15 05:00:00.000",
                                    "Next run datetime": "2024-03-18 05:00:00.000"
                                }
                            ]
                        },
                        "text/html": [
                            "<table>",
                            "<tr><th>Job name</th><th>Step ID</th><th>Description</th><th>Command</th><th>Database name</th><th>Frequency type</th><th>Interval</th><th>Last run datetime</th><th>Next run datetime</th></tr>",
                            "<tr><td>Adopt_A_Stream_Draft_Event_Deletions</td><td>1</td><td>on 3/7/2022 this job is delpoyed from Dev .83 Server by Azmath Fatima after the request from Sampath Karre.</td><td>/********* SCRIPT FOR Deleting the EVENT IDS IN THE ADOPT-A-STREAM *****************************/\r\n\r\nUSE [AdoptAStream]\r\nGO\r\n\r\n/*****************************************************************************\r\n\r\nAuthor:      Vidyanand Dhande\r\nOverview:    Cursor to delete certain events from the tables\r\n \r\nModification History:\r\nWhen        Who                 What\r\n----------  ------------------- ----------------------------------------\r\n7-14-2021\tVidhu               Script for Adopt-A-Stream Event ID deletions\r\n\r\n*******************************************************************************/\r\n\r\n\r\nBEGIN\r\nDECLARE\r\n@Event_rid int;\r\n\r\nDECLARE EventID_cursor CURSOR FOR\r\n\r\nSELECT event_rid\r\nFROM [AdoptAStream].dbo.app_event\r\nWHERE Draft_Ind = 1\r\n\tAND Cast(createddate AS DATE) &lt;= CAST(GETDATE() - 7 AS DATE)\r\n\r\nOPEN EventID_cursor;\r\n\r\nBEGIN TRANSACTION\r\nBEGIN TRY\r\n\r\n\r\nFETCH NEXT FROM EventID_cursor into @Event_rid;\r\nWHILE @@FETCH_STATUS = 0\r\nBEGIN\r\n\r\nDELETE\r\nFROM [dbo].[evt_bacterial_detail]\r\nWHERE event_rid = @Event_rid\r\n\r\nDELETE\r\nFROM [dbo].[evt_stream_habitat_detail]\r\nWHERE event_rid = @Event_rid\r\n\r\nDELETE\r\nFROM [dbo].[evt_miv]\r\nWHERE [miv_detail_rid] IN (\r\n\t\tSELECT [miv_detail_rid]\r\n\t\tFROM [dbo].[evt_miv_detail]\r\n\t\tWHERE event_rid = @Event_rid\r\n\t\t)\r\n\r\nDELETE\r\nFROM [dbo].[evt_miv_detail]\r\nWHERE event_rid = @Event_rid\r\n\r\nDELETE\r\nFROM [dbo].[evt_chemical]\r\nWHERE [chem_detail_rid] IN (\r\n\t\tSELECT [chem_detail_rid]\r\n\t\tFROM [dbo].[evt_chemical_detail]\r\n\t\tWHERE event_rid = @Event_rid\r\n\t\t)\r\n\r\nDELETE\r\nFROM [dbo].[evt_chemical_detail]\r\nWHERE event_rid = @Event_rid\r\n\r\nDELETE\r\nFROM aas_app_file\r\nWHERE file_rid IN (\r\n\t\tSELECT file_rid\r\n\t\tFROM aas_evt_file\r\n\t\tWHERE aas_event_rid = @Event_rid\r\n\t\t)\r\n\r\nDELETE\r\nFROM aas_evt_file\r\nWHERE aas_event_rid = @Event_rid\r\n\r\nDELETE\r\nFROM [dbo].[evt_audit]\r\nWHERE event_rid = @Event_rid\r\n\r\nDELETE\r\nFROM [dbo].[con_event]\r\nWHERE event_rid = @Event_rid\r\n\r\nDELETE\r\nFROM [dbo].[app_event]\r\nWHERE event_rid = @Event_rid\r\n    \r\n\t\r\n\tFETCH next from EventID_cursor into @Event_rid;\r\n\r\n\tEND;\r\n\tCOMMIT TRANSACTION;\r\n\tEND TRY\r\n\r\n\tBEGIN CATCH \r\n\r\n\tIF @@trancount&gt;0\r\n\tRollback transaction;\r\n\r\n\tDECLARE @ErrorNumber INT = ERROR_NUMBER();\r\n    DECLARE @ErrorLine INT = ERROR_LINE();\r\n    DECLARE @ErrorMessage NVARCHAR(4000) = ERROR_MESSAGE();\r\n    DECLARE @ErrorSeverity INT = ERROR_SEVERITY();\r\n    DECLARE @ErrorState INT = ERROR_STATE();\r\n\r\n    PRINT &#39;Actual error number: &#39; + CAST(@ErrorNumber AS VARCHAR(10));\r\n    PRINT &#39;Actual line number: &#39; + CAST(@ErrorLine AS VARCHAR(10));\r\n\r\n    RAISERROR(@ErrorMessage, @ErrorSeverity, @ErrorState);\r\n  END CATCH;\r\n\r\nCLOSE EventID_cursor;\r\nDEALLOCATE EventID_cursor;\r\nEND\r\n\r\n</td><td>master</td><td>Daily</td><td>1</td><td>2024-03-15 04:00:00.000</td><td>2024-03-16 04:00:00.000</td></tr>",
                            "<tr><td>AIRBRANCH_DeactivateInactiveIaipUsers</td><td>1</td><td>No description available.</td><td>USE [AIRBRANCH]\r\nGO\r\n\r\nDECLARE @RC int\r\n\r\n-- TODO: Set parameter values here.\r\n\r\nEXECUTE @RC = [dbo].[DeactivateInactiveIaipUsers] \r\nGO\r\n\r\n\r\n</td><td>master</td><td>Monthly</td><td>1</td><td>2024-03-01 01:00:00.000</td><td>2024-04-01 01:00:00.000</td></tr>",
                            "<tr><td>AIRBRANCH_ICIS_STAGE_ALL</td><td>1</td><td>No description available.</td><td>USE [AIRBRANCH]\r\nGO\r\n\r\nDECLARE @RC int\r\n\r\n-- TODO: Set parameter values here.\r\n\r\nEXECUTE @RC = [etl].[ICIS_Stage_All] \r\nGO\r\n\r\n\r\n</td><td>master</td><td>Daily</td><td>1</td><td>2024-03-14 21:00:00.000</td><td>2024-03-15 21:00:00.000</td></tr>",
                            "<tr><td>AIRBRANCH_PD_EIS_DATA_ANNUAL</td><td>1</td><td>No description available.</td><td>USE [AIRBRANCH]\r\nGO\r\n\r\nDECLARE @RC int\r\n\r\n-- TODO: Set parameter values here.\r\n\r\nEXECUTE @RC = [dbo].[PD_EIS_DATA_ANNUAL] \r\nGO\r\n\r\n\r\n</td><td>master</td><td>Monthly</td><td>1</td><td>2024-01-01 04:00:00.000</td><td>2025-01-01 04:00:00.000</td></tr>",
                            "<tr><td>AIRBRANCH_PD_FEE_ADMIN</td><td>1</td><td>This job schedule to run PD_FEE_ADMIN from AIRBRANCH</td><td>USE [AIRBRANCH]\r\nGO\r\n\r\nDECLARE @RC int\r\n\r\n-- TODO: Set parameter values here.\r\n\r\nEXECUTE @RC = [dbo].[PD_FEE_ADMIN] \r\nGO\r\n\r\n\r\n</td><td>master</td><td>Monthly</td><td>1</td><td>2024-01-01 04:00:00.000</td><td>2025-01-01 04:00:00.000</td></tr>",
                            "<tr><td>AIRBRANCH_USP_IAIP_TO_STG</td><td>1</td><td>No description available.</td><td>USE [AIRBRANCH]\r\nGO\r\n\r\nDECLARE @RC int\r\n\r\n-- TODO: Set parameter values here.\r\n\r\nEXECUTE @RC = [etl].[USP_IAIP_TO_STG] \r\nGO\r\n\r\n\r\n</td><td>master</td><td>Daily</td><td>1</td><td>2024-03-15 00:00:00.000</td><td>2024-03-16 00:00:00.000</td></tr>",
                            "<tr><td>Clean up txt files.Subplan_1</td><td>1</td><td>No description available.</td><td>/Server &quot;$(ESCAPE_NONE(SRVR))&quot; /SQL &quot;Maintenance Plans\\Clean up txt files&quot; /set &quot;\\Package\\Subplan_1.Disable;false&quot;</td><td>NULL</td><td>Daily</td><td>1</td><td>2024-03-15 03:50:00.000</td><td>2024-03-16 03:50:00.000</td></tr>",
                            "<tr><td>Cleaning cache</td><td>1</td><td>No description available.</td><td>use master\r\ngo\r\ndbcc FREEPROCCACHE</td><td>master</td><td>Daily</td><td>1</td><td>2024-03-14 18:00:00.000</td><td>2024-03-15 18:00:00.000</td></tr>",
                            "<tr><td>CleanUp Backup Files.Subplan_1</td><td>1</td><td>No description available.</td><td>/Server &quot;$(ESCAPE_NONE(SRVR))&quot; /SQL &quot;Maintenance Plans\\CleanUp Backup Files&quot; /set &quot;\\Package\\Subplan_1.Disable;false&quot;</td><td>NULL</td><td>Daily</td><td>1</td><td>2024-03-15 03:45:00.000</td><td>2024-03-16 03:45:00.000</td></tr>",
                            "<tr><td>Daily backup plan.Subplan_1</td><td>1</td><td>No description available.</td><td>/Server &quot;$(ESCAPE_NONE(SRVR))&quot; /SQL &quot;Maintenance Plans\\Daily backup plan&quot; /set &quot;\\Package\\Subplan_1.Disable;false&quot;</td><td>NULL</td><td>Daily</td><td>1</td><td>2024-03-15 03:30:00.000</td><td>2024-03-16 03:30:00.000</td></tr>",
                            "<tr><td>DEL_DUPLICATES_SDWIS_DATA</td><td>1</td><td>No description available.</td><td>\r\n\r\nDELETE T\r\nFROM\r\n(\r\n    SELECT WATERSYSTEMID\r\n         , ROW_NUMBER() OVER(PARTITION BY WATERSYSTEMID\r\n                                        , NAME ORDER BY WATERSYSTEMID) AS rn\r\n    FROM   sdw.WS_INV_CONTACT\r\n) AS T\r\nWHERE  rn &gt; 1\r\n\r\n</td><td>MFL_GA_STG</td><td>Daily</td><td>1</td><td>2024-03-14 23:30:00.000</td><td>2024-03-15 23:30:00.000</td></tr>",
                            "<tr><td>ExpiringLicenses_Email</td><td>1</td><td>No description available.</td><td>exec Get_ExpiringLicenses_SendEmail</td><td>RAD</td><td>Daily</td><td>1</td><td>2024-03-15 05:00:00.000</td><td>2024-03-16 05:00:00.000</td></tr>",
                            "<tr><td>NotifyExpiredLicenses</td><td>1</td><td>Notify Expired Licenses to the Licensee once every week on Sunday at 5.AM</td><td>EXEC NotifyExpiredLicenses @Environment=&#39;PROD&#39;</td><td>RAD</td><td>Weekly</td><td>1</td><td>2024-03-10 05:00:00.000</td><td>2024-03-17 05:00:00.000</td></tr>",
                            "<tr><td>ReIndexing &amp; update Statistics AdoptAstream</td><td>1</td><td>No description available.</td><td>USE AdoptAstream\r\nGO\r\nEXEC sp_MSforeachtable @command1=&quot;print &#39;?&#39; DBCC DBREINDEX (&#39;?&#39;, &#39; &#39;, 80)&quot;\r\nGO\r\nEXEC sp_updatestats\r\nGO</td><td>master</td><td>Daily</td><td>1</td><td>2024-03-14 19:00:00.000</td><td>2024-03-15 19:00:00.000</td></tr>",
                            "<tr><td>ReIndexing &amp; Update Statistics on ComplaintTracking Tables</td><td>1</td><td>When any data modification operations (INSERT, UPDATE, or DELETE statements) table fragmentation can occur. DBCC DBREINDEX statement can be used to rebuild all the indexes on all the tables in database. DBCC DBREINDEX is efficient over dropping and recreating indexes.</td><td>USE ComplaintTracking\r\nGO\r\nEXEC sp_MSforeachtable @command1=&quot;print &#39;?&#39; DBCC DBREINDEX (&#39;?&#39;, &#39; &#39;, 80)&quot;\r\nGO\r\nEXEC sp_updatestats\r\nGO</td><td>master</td><td>Daily</td><td>1</td><td>2024-03-14 19:00:00.000</td><td>2024-03-15 19:00:00.000</td></tr>",
                            "<tr><td>ReIndexing &amp; Update Statistics on GOMAS Tables</td><td>1</td><td>When any data modification operations (INSERT, UPDATE, or DELETE statements) table fragmentation can occur. DBCC DBREINDEX statement can be used to rebuild all the indexes on all the tables in database. DBCC DBREINDEX is efficient over dropping and recreating indexes.</td><td>USE GOMAS\r\nGO\r\nEXEC sp_MSforeachtable @command1=&quot;print &#39;?&#39; DBCC DBREINDEX (&#39;?&#39;, &#39; &#39;, 80)&quot;\r\nGO\r\nEXEC sp_updatestats\r\nGO</td><td>master</td><td>Daily</td><td>1</td><td>2024-03-14 19:00:00.000</td><td>2024-03-15 19:00:00.000</td></tr>",
                            "<tr><td>syspolicy_purge_history</td><td>1</td><td>No description available.</td><td>IF (msdb.dbo.fn_syspolicy_is_automation_enabled() != 1)\r\n        BEGIN\r\n            RAISERROR(34022, 16, 1)\r\n        END</td><td>master</td><td>Daily</td><td>1</td><td>2024-03-15 02:00:00.000</td><td>2024-03-16 02:00:00.000</td></tr>",
                            "<tr><td>syspolicy_purge_history</td><td>2</td><td>No description available.</td><td>EXEC msdb.dbo.sp_syspolicy_purge_history</td><td>master</td><td>Daily</td><td>1</td><td>2024-03-15 02:00:00.000</td><td>2024-03-16 02:00:00.000</td></tr>",
                            "<tr><td>syspolicy_purge_history</td><td>3</td><td>No description available.</td><td>if (&#39;$(ESCAPE_SQUOTE(INST))&#39; -eq &#39;MSSQLSERVER&#39;) {$a = &#39;\\DEFAULT&#39;} ELSE {$a = &#39;&#39;};\r\n(Get-Item SQLSERVER:\\SQLPolicy\\$(ESCAPE_NONE(SRVR))$a).EraseSystemHealthPhantomRecords()</td><td>master</td><td>Daily</td><td>1</td><td>2024-03-15 02:00:00.000</td><td>2024-03-16 02:00:00.000</td></tr>",
                            "<tr><td>Truncate AdoptAStream</td><td>1</td><td>No description available.</td><td>ALTER DATABASE [AdoptAStream] SET RECOVERY SIMPLE\r\n\r\nUSE [AdoptAStream] ;\r\nGO\r\nCHECKPOINT;\r\nGO\r\nCHECKPOINT; -- run twice to ensure file wrap-around\r\nGO\r\nDBCC SHRINKFILE(AdoptAStream_log, 2);\r\nGO\r\n\r\nALTER DATABASE [AdoptAStream] SET RECOVERY FULL</td><td>master</td><td>Daily</td><td>1</td><td>2024-03-15 06:00:00.000</td><td>2024-03-16 06:00:00.000</td></tr>",
                            "<tr><td>Truncate ATTAINS</td><td>1</td><td>This job to truncate log file every night.</td><td>ALTER DATABASE [ATTAINS] SET RECOVERY SIMPLE\r\n\r\nUSE [ATTAINS] ;\r\nGO\r\nCHECKPOINT;\r\nGO\r\nCHECKPOINT; -- run twice to ensure file wrap-around\r\nGO\r\nDBCC SHRINKFILE(ATTAINS_log, 2);\r\nGO\r\n\r\nALTER DATABASE [ATTAINS] SET RECOVERY FULL</td><td>master</td><td>Daily</td><td>1</td><td>2024-03-15 06:00:00.000</td><td>2024-03-16 06:00:00.000</td></tr>",
                            "<tr><td>Truncate ComplaintTracking</td><td>1</td><td>No description available.</td><td>ALTER DATABASE [ComplaintTracking] SET RECOVERY SIMPLE\r\n\r\nUSE [ComplaintTracking] ;\r\nGO\r\nCHECKPOINT;\r\nGO\r\nCHECKPOINT; -- run twice to ensure file wrap-around\r\nGO\r\nDBCC SHRINKFILE(ComplaintTracking_log, 2);\r\nGO\r\n\r\nALTER DATABASE [ComplaintTracking] SET RECOVERY FULL</td><td>master</td><td>Daily</td><td>1</td><td>2024-03-15 06:00:00.000</td><td>2024-03-16 06:00:00.000</td></tr>",
                            "<tr><td>Truncate EnforcementOrders</td><td>1</td><td>No description available.</td><td>ALTER DATABASE [EnforcementOrders] SET RECOVERY SIMPLE\r\n\r\nUSE [EnforcementOrders] ;\r\nGO\r\nCHECKPOINT;\r\nGO\r\nCHECKPOINT; -- run twice to ensure file wrap-around\r\nGO\r\nDBCC SHRINKFILE(EnforcementOrders_log, 2);\r\nGO\r\n\r\nALTER DATABASE [EnforcementOrders] SET RECOVERY FULL</td><td>master</td><td>Daily</td><td>1</td><td>2024-03-15 06:00:00.000</td><td>2024-03-16 06:00:00.000</td></tr>",
                            "<tr><td>Truncate GOMAS</td><td>1</td><td>No description available.</td><td>ALTER DATABASE [GOMAS] SET RECOVERY SIMPLE\r\n\r\nUSE [GOMAS] ;\r\nGO\r\nCHECKPOINT;\r\nGO\r\nCHECKPOINT; -- run twice to ensure file wrap-around\r\nGO\r\nDBCC SHRINKFILE(GOMASUAT_log, 2);\r\nGO\r\n\r\nALTER DATABASE [GOMAS] SET RECOVERY FULL</td><td>master</td><td>Daily</td><td>1</td><td>2024-03-15 06:00:00.000</td><td>2024-03-16 06:00:00.000</td></tr>",
                            "<tr><td>Truncate Log file airbranch</td><td>1</td><td>No description available.</td><td>ALTER DATABASE airbranch SET RECOVERY SIMPLE</td><td>master</td><td>Daily</td><td>1</td><td>2024-03-15 06:00:00.000</td><td>2024-03-16 06:00:00.000</td></tr>",
                            "<tr><td>Truncate Log file airbranch</td><td>2</td><td>No description available.</td><td>USE airbranch;\r\nGO\r\nCHECKPOINT;\r\nGO\r\nCHECKPOINT; \r\nGO\r\nDBCC SHRINKFILE(airbranch_copy_og, 2);\r\nGO\r\n\r\n</td><td>master</td><td>Daily</td><td>1</td><td>2024-03-15 06:00:00.000</td><td>2024-03-16 06:00:00.000</td></tr>",
                            "<tr><td>Truncate Log file airbranch</td><td>3</td><td>No description available.</td><td>ALTER DATABASE [airbranch] SET RECOVERY FULL</td><td>master</td><td>Daily</td><td>1</td><td>2024-03-15 06:00:00.000</td><td>2024-03-16 06:00:00.000</td></tr>",
                            "<tr><td>Truncate MFL_GA_STG</td><td>1</td><td>No description available.</td><td>ALTER DATABASE [MFL_GA_STG] SET RECOVERY SIMPLE\r\n\r\nUSE [MFL_GA_STG] ;\r\nGO\r\nCHECKPOINT;\r\nGO\r\nCHECKPOINT; -- run twice to ensure file wrap-around\r\nGO\r\nDBCC SHRINKFILE(MFL_GA_STG_log, 2);\r\nGO\r\n\r\nALTER DATABASE [MFL_GA_STG] SET RECOVERY FULL</td><td>master</td><td>Daily</td><td>1</td><td>2024-03-15 06:00:00.000</td><td>2024-03-16 06:00:00.000</td></tr>",
                            "<tr><td>Truncate networknodeflow</td><td>1</td><td>No description available.</td><td>ALTER DATABASE [NETWORKNODEFLOW] SET RECOVERY SIMPLE\r\n\r\nUSE [NETWORKNODEFLOW] ;\r\nGO\r\nCHECKPOINT;\r\nGO\r\nCHECKPOINT; -- run twice to ensure file wrap-around\r\nGO\r\nDBCC SHRINKFILE(NETWORKNODEFLOW_log, 2);\r\nGO\r\n\r\nALTER DATABASE [NETWORKNODEFLOW] SET RECOVERY FULL</td><td>master</td><td>Daily</td><td>1</td><td>2024-03-15 06:00:00.000</td><td>2024-03-16 06:00:00.000</td></tr>",
                            "<tr><td>Truncate NODE</td><td>1</td><td>No description available.</td><td>ALTER DATABASE [NODE] SET RECOVERY SIMPLE\r\n\r\nUSE [NODE] ;\r\nGO\r\nCHECKPOINT;\r\nGO\r\nCHECKPOINT; -- run twice to ensure file wrap-around\r\nGO\r\nDBCC SHRINKFILE(NODE_log, 2);\r\nGO\r\n\r\nALTER DATABASE [NODE] SET RECOVERY FULL</td><td>master</td><td>Daily</td><td>1</td><td>2024-03-15 06:00:00.000</td><td>2024-03-16 06:00:00.000</td></tr>",
                            "<tr><td>Truncate Node_Flow_Facid</td><td>1</td><td>No description available.</td><td>\r\nALTER DATABASE [NODE_FLOW_FACID] SET RECOVERY SIMPLE\r\n\r\nUSE [NODE_FLOW_FACID] ;\r\nGO\r\nCHECKPOINT;\r\nGO\r\nCHECKPOINT; -- run twice to ensure file wrap-around\r\nGO\r\nDBCC SHRINKFILE(NODE_FLOW_FACID_log, 2);\r\nGO\r\n\r\nALTER DATABASE [NODE_FLOW_FACID] SET RECOVERY FULL</td><td>master</td><td>Daily</td><td>1</td><td>2024-03-15 06:00:00.000</td><td>2024-03-16 06:00:00.000</td></tr>",
                            "<tr><td>Truncate RAD</td><td>1</td><td>No description available.</td><td>ALTER DATABASE [RAD] SET RECOVERY SIMPLE\r\n\r\nUSE [RAD] ;\r\nGO\r\nCHECKPOINT;\r\nGO\r\nCHECKPOINT; -- run twice to ensure file wrap-around\r\nGO\r\nDBCC SHRINKFILE(RAD_log, 2);\r\nGO\r\n\r\nALTER DATABASE [RAD] SET RECOVERY FULL</td><td>master</td><td>Daily</td><td>1</td><td>2024-03-15 06:00:00.000</td><td>2024-03-16 06:00:00.000</td></tr>",
                            "<tr><td>Truncate Temdb_Data_and_LOG_files</td><td>1</td><td>No description available.</td><td>use master\r\ngo\r\ndbcc FREEPROCCACHE\r\n\r\nUSE tempdb;\r\nGO\r\nCHECKPOINT;\r\nGO\r\nCHECKPOINT; -- run twice to ensure file wrap-around\r\nGO\r\nDBCC SHRINKFILE(templog, 2);\r\nGO\r\n\r\nUSE tempdb;\r\nGO\r\nCHECKPOINT;\r\nGO\r\nCHECKPOINT; -- run twice to ensure file wrap-around\r\nGO\r\nDBCC SHRINKFILE(tempdev, 2);\r\nGO</td><td>master</td><td>Daily</td><td>1</td><td>2024-03-14 18:00:00.000</td><td>2024-03-15 18:00:00.000</td></tr>",
                            "<tr><td>UpcomingInspection_Email</td><td>1</td><td>Once this job runs it will send emails to the users who had missed the inspection</td><td>exec Get_Upcoming_Inpection_SendEmails</td><td>RAD</td><td>Weekly</td><td>62</td><td>2024-03-15 05:00:00.000</td><td>2024-03-18 05:00:00.000</td></tr>",
                            "</table>"
                        ]
                    }
                }
            ],
            "execution_count": 2
        }
    ]
}